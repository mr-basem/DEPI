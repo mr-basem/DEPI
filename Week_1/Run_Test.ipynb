{
 "cells": [
  {
   "cell_type": "code",
   "execution_count": 2,
   "id": "cf87a129-2cac-4747-a602-856647ba7c7d",
   "metadata": {},
   "outputs": [
    {
     "name": "stdout",
     "output_type": "stream",
     "text": [
      "Run Test Results:\n",
      "Number of Runs: 13966\n",
      "Expected Runs: 15824.62\n",
      "Standard Deviation of Runs: 0.94\n",
      "Z-score: -1977.11\n",
      "p-value: 0.00000\n",
      "The data is not randomly distributed (Reject Null Hypothesis).\n"
     ]
    },
    {
     "name": "stderr",
     "output_type": "stream",
     "text": [
      "C:\\Users\\FreeComp\\AppData\\Local\\Temp\\ipykernel_9204\\1946056265.py:26: RuntimeWarning: overflow encountered in scalar multiply\n",
      "  std_dev_runs = np.sqrt((2 * n1 * n2 * (2 * n1 * n2 - n1 - n2)) / ((n1 + n2) ** 2 * (n1 + n2 - 1)))\n"
     ]
    }
   ],
   "source": [
    "import pandas as pd\n",
    "import numpy as np\n",
    "from scipy.stats import norm\n",
    "\n",
    "# Load the dataset\n",
    "file_path = \"railway.csv\"\n",
    "df = pd.read_csv(file_path)\n",
    "\n",
    "# Extract the \"Price\" column and remove missing values\n",
    "prices = df[\"Price\"].dropna().values\n",
    "\n",
    "def run_test(sequence):\n",
    "    \"\"\"\n",
    "    Perform the Run Test to check if values are randomly distributed.\n",
    "    \"\"\"\n",
    "    median = np.median(sequence)\n",
    "    signs = np.where(sequence >= median, 1, 0)  # Convert values to 1 and 0 based on median\n",
    "    \n",
    "    # Count the number of runs\n",
    "    runs = np.sum(np.diff(signs) != 0) + 1\n",
    "    n1 = np.sum(signs)  # Count of values above or equal to median\n",
    "    n2 = len(sequence) - n1  # Count of values below median\n",
    "\n",
    "    # Calculate expected runs and standard deviation\n",
    "    expected_runs = ((2 * n1 * n2) / (n1 + n2)) + 1\n",
    "    std_dev_runs = np.sqrt((2 * n1 * n2 * (2 * n1 * n2 - n1 - n2)) / ((n1 + n2) ** 2 * (n1 + n2 - 1)))\n",
    "\n",
    "    # Compute Z-score and p-value\n",
    "    z_score = (runs - expected_runs) / std_dev_runs\n",
    "    p_value = 2 * (1 - norm.cdf(abs(z_score)))\n",
    "    \n",
    "    return runs, expected_runs, std_dev_runs, z_score, p_value\n",
    "\n",
    "# Apply the test\n",
    "run_test_results = run_test(prices)\n",
    "\n",
    "# Display results\n",
    "print(\"Run Test Results:\")\n",
    "print(f\"Number of Runs: {run_test_results[0]}\")\n",
    "print(f\"Expected Runs: {run_test_results[1]:.2f}\")\n",
    "print(f\"Standard Deviation of Runs: {run_test_results[2]:.2f}\")\n",
    "print(f\"Z-score: {run_test_results[3]:.2f}\")\n",
    "print(f\"p-value: {run_test_results[4]:.5f}\")\n",
    "\n",
    "# Interpretation\n",
    "if run_test_results[4] < 0.05:\n",
    "    print(\"The data is not randomly distributed (Reject Null Hypothesis).\")\n",
    "else:\n",
    "    print(\"The data appears to be randomly distributed (Fail to Reject Null Hypothesis).\")"
   ]
  },
  {
   "cell_type": "code",
   "execution_count": null,
   "id": "b9df3f6d-4c0e-40ef-bf43-bcb06a21fe19",
   "metadata": {},
   "outputs": [],
   "source": []
  }
 ],
 "metadata": {
  "kernelspec": {
   "display_name": "Python 3 (ipykernel)",
   "language": "python",
   "name": "python3"
  },
  "language_info": {
   "codemirror_mode": {
    "name": "ipython",
    "version": 3
   },
   "file_extension": ".py",
   "mimetype": "text/x-python",
   "name": "python",
   "nbconvert_exporter": "python",
   "pygments_lexer": "ipython3",
   "version": "3.12.7"
  }
 },
 "nbformat": 4,
 "nbformat_minor": 5
}
